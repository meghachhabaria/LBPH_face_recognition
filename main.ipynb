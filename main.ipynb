{
 "cells": [
  {
   "cell_type": "markdown",
   "metadata": {},
   "source": [
    "### Task Description 📄\n",
    "\n",
    "### ❄️ Create a program that perform below mentioned task upon recognizing a particular face. \n",
    "\n",
    "### 📌 When it recognize your face then - \n",
    "### 👉 It send mail to your mail id by writing this is face of your_name. \n",
    "### 👉 Second it send whatsapp message to your friend, it can be anything. \n",
    "\n",
    "### 📌 When it recognize second  face, it can be your friend or family members face.\n",
    "### 👉 Create EC2 instance in the AWS using CLI. \n",
    "### 👉 Create 5 GB EBS volume and attach it to the instance. "
   ]
  },
  {
   "cell_type": "code",
   "execution_count": null,
   "metadata": {},
   "outputs": [],
   "source": []
  },
  {
   "cell_type": "markdown",
   "metadata": {},
   "source": [
    "### My Image (Govind) Data COllection"
   ]
  },
  {
   "cell_type": "code",
   "execution_count": 17,
   "metadata": {},
   "outputs": [
    {
     "name": "stdout",
     "output_type": "stream",
     "text": [
      "Face not found\n",
      "Face not found\n",
      "Face not found\n",
      "Face not found\n",
      "Face not found\n",
      "Face not found\n",
      "Face not found\n",
      "Face not found\n",
      "Face not found\n",
      "Face not found\n",
      "Face not found\n",
      "Face not found\n",
      "Face not found\n",
      "Face not found\n",
      "Collecting Samples Complete\n"
     ]
    }
   ],
   "source": [
    "import cv2\n",
    "import numpy as np\n",
    "\n",
    "# Load HAAR face classifier\n",
    "face_classifier = cv2.CascadeClassifier('haarcascade_frontalface_default.xml')\n",
    "\n",
    "# Load functions\n",
    "def face_extractor(img):\n",
    "    # Function detects faces and returns the cropped face\n",
    "    # If no face detected, it returns the input image\n",
    "    \n",
    "    gray = cv2.cvtColor(img,cv2.COLOR_BGR2GRAY)\n",
    "    faces = face_classifier.detectMultiScale(gray, 1.3, 5)\n",
    "    \n",
    "    if faces is ():\n",
    "        return None\n",
    "    \n",
    "    # Crop all faces found\n",
    "    for (x,y,w,h) in faces:\n",
    "        cropped_face = img[y:y+h, x:x+w]\n",
    "\n",
    "    return cropped_face\n",
    "\n",
    "# Initialize Webcam\n",
    "cap = cv2.VideoCapture(0)\n",
    "count = 0\n",
    "\n",
    "# Collect 100 samples of your face from webcam input\n",
    "while True:\n",
    "\n",
    "    ret, frame = cap.read()\n",
    "    if face_extractor(frame) is not None:\n",
    "        count += 1\n",
    "        face = cv2.resize(face_extractor(frame), (200, 200))\n",
    "        face = cv2.cvtColor(face, cv2.COLOR_BGR2GRAY)\n",
    "\n",
    "        # Save file in specified directory with unique name\n",
    "        file_name_path = 'Dataset/Govind/' + str(count) + '.jpg'\n",
    "        cv2.imwrite(file_name_path, face)\n",
    "\n",
    "        # Put count on images and display live count\n",
    "        cv2.putText(face, str(count), (50, 50), cv2.FONT_HERSHEY_COMPLEX, 1, (0,255,0), 2)\n",
    "        cv2.imshow('Face Cropper', face)\n",
    "        \n",
    "    else:\n",
    "        print(\"Face not found\")\n",
    "        pass\n",
    "\n",
    "    if cv2.waitKey(100) == 13 or count == 200: #13 is the Enter Key\n",
    "        break\n",
    "        \n",
    "cap.release()\n",
    "cv2.destroyAllWindows()      \n",
    "print(\"Collecting Samples Complete\")\n",
    "cap.release()"
   ]
  },
  {
   "cell_type": "markdown",
   "metadata": {},
   "source": [
    "### My Brother Image (Gopal) Data Collection"
   ]
  },
  {
   "cell_type": "code",
   "execution_count": 18,
   "metadata": {},
   "outputs": [
    {
     "name": "stdout",
     "output_type": "stream",
     "text": [
      "Face not found\n",
      "Collecting Samples Complete\n"
     ]
    }
   ],
   "source": [
    "import cv2\n",
    "import numpy as np\n",
    "\n",
    "# Load HAAR face classifier\n",
    "face_classifier = cv2.CascadeClassifier('haarcascade_frontalface_default.xml')\n",
    "\n",
    "# Load functions\n",
    "def face_extractor(img):\n",
    "    # Function detects faces and returns the cropped face\n",
    "    # If no face detected, it returns the input image\n",
    "    \n",
    "    gray = cv2.cvtColor(img,cv2.COLOR_BGR2GRAY)\n",
    "    faces = face_classifier.detectMultiScale(gray, 1.3, 5)\n",
    "    \n",
    "    if faces is ():\n",
    "        return None\n",
    "    \n",
    "    # Crop all faces found\n",
    "    for (x,y,w,h) in faces:\n",
    "        cropped_face = img[y:y+h, x:x+w]\n",
    "\n",
    "    return cropped_face\n",
    "\n",
    "# Initialize Webcam\n",
    "cap = cv2.VideoCapture(0)\n",
    "count = 0\n",
    "\n",
    "# Collect 100 samples of your face from webcam input\n",
    "while True:\n",
    "\n",
    "    ret, frame = cap.read()\n",
    "    if face_extractor(frame) is not None:\n",
    "        count += 1\n",
    "        face = cv2.resize(face_extractor(frame), (200, 200))\n",
    "        face = cv2.cvtColor(face, cv2.COLOR_BGR2GRAY)\n",
    "\n",
    "        # Save file in specified directory with unique name\n",
    "        file_name_path = 'Dataset/Gopal/' + str(count) + '.jpg'\n",
    "        cv2.imwrite(file_name_path, face)\n",
    "\n",
    "        # Put count on images and display live count\n",
    "        cv2.putText(face, str(count), (50, 50), cv2.FONT_HERSHEY_COMPLEX, 1, (0,255,0), 2)\n",
    "        cv2.imshow('Face Cropper', face)\n",
    "        \n",
    "    else:\n",
    "        print(\"Face not found\")\n",
    "        pass\n",
    "\n",
    "    if cv2.waitKey(100) == 13 or count == 200: #13 is the Enter Key\n",
    "        break\n",
    "        \n",
    "cap.release()\n",
    "cv2.destroyAllWindows()      \n",
    "print(\"Collecting Samples Complete\")\n",
    "cap.release()"
   ]
  },
  {
   "cell_type": "markdown",
   "metadata": {},
   "source": [
    "### Model Training\n",
    "### My Image (Govind) Label  --->  0\n",
    "### My Brother (Gopal) Label  ---> 1"
   ]
  },
  {
   "cell_type": "code",
   "execution_count": 19,
   "metadata": {},
   "outputs": [
    {
     "name": "stdout",
     "output_type": "stream",
     "text": [
      "Model trained sucessefully\n"
     ]
    }
   ],
   "source": [
    "import cv2\n",
    "import numpy as np\n",
    "from os import listdir\n",
    "from os.path import isfile, join\n",
    "\n",
    "# Get the training data we previously made\n",
    "data_path = 'Dataset/Gopal/'\n",
    "onlyfiles = [f for f in listdir(data_path) if isfile(join(data_path, f))]\n",
    "\n",
    "# Create arrays for training data and labels\n",
    "Training_Data, Labels = [], []\n",
    "\n",
    "# Open training images in our datapath\n",
    "# Create a numpy array for training data\n",
    "for i, files in enumerate(onlyfiles):\n",
    "    image_path = data_path + onlyfiles[i]\n",
    "    images = cv2.imread(image_path, cv2.IMREAD_GRAYSCALE)\n",
    "    Training_Data.append(np.asarray(images, dtype=np.uint8))\n",
    "    Labels.append(1)\n",
    "govind_path = 'Dataset/Govind/'\n",
    "onlyfiles = [f for f in listdir(govind_path) if isfile(join(govind_path, f))]\n",
    "for i, files in enumerate(onlyfiles):\n",
    "    image_path = govind_path + onlyfiles[i]\n",
    "    images = cv2.imread(image_path, cv2.IMREAD_GRAYSCALE)\n",
    "    Training_Data.append(np.asarray(images, dtype=np.uint8))\n",
    "    Labels.append(0)\n",
    "# Create a numpy array for both training data and labels\n",
    "Labels = np.asarray(Labels, dtype=np.int32)\n",
    "# Initialize facial recognizer\n",
    "# model = cv2.face.createLBPHFaceRecognizer()\n",
    "# NOTE: For OpenCV 3.0 use cv2.face.createLBPHFaceRecognizer()\n",
    "# pip install opencv-contrib-python\n",
    "# model = cv2.createLBPHFaceRecognizer()\n",
    "\n",
    "vimal_model  = cv2.face_LBPHFaceRecognizer.create()\n",
    "# Let's train our model \n",
    "vimal_model.train(np.asarray(Training_Data), np.asarray(Labels))\n",
    "print(\"Model trained sucessefully\")\n"
   ]
  },
  {
   "cell_type": "markdown",
   "metadata": {},
   "source": [
    "### Function For Sending a Mail"
   ]
  },
  {
   "cell_type": "code",
   "execution_count": 20,
   "metadata": {},
   "outputs": [],
   "source": [
    "import smtplib , ssl\n",
    "def sendMail(sender_info,receiver_info):\n",
    "    context = ssl.create_default_context()\n",
    "    server = smtplib.SMTP_SSL(\"smtp.gmail.com\",465,context=context)\n",
    "    print(\"Logion in Mail\")\n",
    "    server.login(sender_info[\"mail_id\"],sender_info[\"password\"])\n",
    "    server.sendmail(sender_info[\"mail_id\"],receiver_info[\"mail_id\"],\n",
    "                    \"Subject: {0}\\n{1}\".format(receiver_info[\"subject\"],receiver_info[\"message\"]))\n"
   ]
  },
  {
   "cell_type": "markdown",
   "metadata": {},
   "source": [
    "### Function For Doing Whatsapp Message"
   ]
  },
  {
   "cell_type": "code",
   "execution_count": 21,
   "metadata": {},
   "outputs": [],
   "source": [
    "import pywhatkit as kit\n",
    "from datetime import datetime\n",
    "\n",
    "def sendWhatsappMSG(mobile_no,message):\n",
    "    print(\"Start Sending Whatsapp Message\")\n",
    "    now = tuple(str(datetime.now().time()).split(\":\")) # time object\n",
    "    kit.sendwhatmsg(mobile_no, message, int(now[0]), int(now[1])+2)"
   ]
  },
  {
   "cell_type": "markdown",
   "metadata": {},
   "source": [
    "### Function For Launching EC2 instance and Create EBS Volume of 2 GiB and Attach to EC2 Instance"
   ]
  },
  {
   "cell_type": "code",
   "execution_count": 22,
   "metadata": {},
   "outputs": [],
   "source": [
    "from subprocess import getstatusoutput\n",
    "import yaml\n",
    "import time\n",
    "def awsAutomate():\n",
    "    output = getstatusoutput(\"aws ec2 run-instances \\\n",
    "                    --image-id ami-0ad704c126371a549 \\\n",
    "                    --instance-type t2.micro \\\n",
    "                    --key-name hello \\\n",
    "                    --subnet-id  subnet-7acfbf36 \\\n",
    "                    --tag-specifications ResourceType=instance,Tags=[{Key=Name,Value=SummerTask6}]\")\n",
    "    output = yaml.load(output[1],Loader=yaml.FullLoader)\n",
    "    time.sleep(15)\n",
    "    print(\"Ec2 Instance is successfully launched\")\n",
    "    VolOutput = getstatusoutput(\"aws ec2 create-volume --size 2 --availability-zone \"+output[\"Instances\"][0][\"Placement\"][\"AvailabilityZone\"]+ \" --tag-specifications ResourceType=volume,Tags=[{Key=Name,Value=SummerTask6}]\")\n",
    "    VolOutput = yaml.load(VolOutput[1],Loader=yaml.FullLoader)\n",
    "    print(\"EBS Volume is created\")\n",
    "    time.sleep(15)\n",
    "    AttachVol = getstatusoutput(\"aws ec2 attach-volume --device /dev/sdh --instance-id \"+ output[\"Instances\"][0][\"InstanceId\"]+\" --volume-id \"+VolOutput[\"VolumeId\"])\n",
    "    print(\"EBS Volume is attached to EC2 instance\")"
   ]
  },
  {
   "cell_type": "markdown",
   "metadata": {},
   "source": [
    "### Face Recognition"
   ]
  },
  {
   "cell_type": "code",
   "execution_count": 24,
   "metadata": {
    "scrolled": true
   },
   "outputs": [
    {
     "name": "stdout",
     "output_type": "stream",
     "text": [
      "Successfull\n",
      "Ec2 Instance is successfully launched\n",
      "EBS Volume is created\n",
      "EBS Volume is attached to EC2 instance\n"
     ]
    }
   ],
   "source": [
    "import cv2\n",
    "import numpy as np\n",
    "import os\n",
    "from mail_password import *\n",
    "import threading\n",
    "\n",
    "face_classifier = cv2.CascadeClassifier('haarcascade_frontalface_default.xml')\n",
    "\n",
    "def face_detector(img, size=0.5):\n",
    "    \n",
    "    # Convert image to grayscale\n",
    "    gray = cv2.cvtColor(img,cv2.COLOR_BGR2GRAY)\n",
    "    faces = face_classifier.detectMultiScale(gray, 1.3, 5)\n",
    "    if faces is ():\n",
    "        return img, []\n",
    "    \n",
    "    \n",
    "    for (x,y,w,h) in faces:\n",
    "        cv2.rectangle(img,(x,y),(x+w,y+h),(0,255,255),2)\n",
    "        roi = img[y:y+h, x:x+w]\n",
    "        roi = cv2.resize(roi, (200, 200))\n",
    "    return img, roi\n",
    "\n",
    "\n",
    "# Open Webcam\n",
    "cap = cv2.VideoCapture(0)\n",
    "i=0\n",
    "while True:\n",
    "\n",
    "    ret, frame = cap.read()\n",
    "    \n",
    "    image, face = face_detector(frame)\n",
    "    \n",
    "    try:\n",
    "        face = cv2.cvtColor(face, cv2.COLOR_BGR2GRAY)\n",
    "\n",
    "        # Pass face to prediction model\n",
    "        # \"results\" comprises of a tuple containing the label and the confidence value\n",
    "        results = vimal_model.predict(face)\n",
    "        #print(results)\n",
    "        # harry_model.predict(face)\n",
    "        if results[1] < 500:\n",
    "            confidence = int( 100 * (1 - (results[1])/400) )\n",
    "            display_string = str(confidence) + '% Confident it is User'\n",
    "            \n",
    "        cv2.putText(image, display_string, (100, 120), cv2.FONT_HERSHEY_COMPLEX, 1, (255,120,150), 2)\n",
    "        \n",
    "        if confidence > 85 and i==50:\n",
    "            if results[0] == 0:\n",
    "                cv2.putText(image, \"Hey Govind\", (250, 450), cv2.FONT_HERSHEY_COMPLEX, 1, (0,255,0), 2)\n",
    "                print(\"Sending a Mail From 'bhardwajgovind627@gmail.com' to 'aftffgbggchc@gmail.com'\")\n",
    "                threading.Thread(target=sendMail,kwargs={'sender_info':{\n",
    "                            \"mail_id\": \"bhardwajgovind627@gmail.com\",\n",
    "                            \"password\": mailpassword},\n",
    "                        'receiver_info':{\n",
    "                            \"mail_id\": \"aftffgbggchc@gmail.com\", \n",
    "                            \"subject\": \"TESTING\", \n",
    "                            \"message\": \"Hi What are you doing\"}}).start()\n",
    "                \"\"\"\n",
    "                sendMail( \n",
    "                        sender_info={\n",
    "                            \"mail_id\": \"bhardwajgovind627@gmail.com\",\n",
    "                            \"password\": mailpassword},\n",
    "                        receiver_info={\n",
    "                            \"mail_id\": \"aftffgbggchc@gmail.com\", \n",
    "                            \"subject\": \"TESTING\", \n",
    "                            \"message\": \"Hi What are you doing\"})\n",
    "                \"\"\"\n",
    "                print(\"Do whatsapp Message\")\n",
    "                threading.Thread(target=sendWhatsappMSG,args=(\"+916367854922\", \"HI what are you doing\")).start()\n",
    "                #sendWhatsappMSG(\"+916367854922\", \"HI what are you doing\")\n",
    "                print(\"Whatsapp Message\")\n",
    "            if results[0] == 1:\n",
    "                cv2.putText(image, \"Hey Gopal\", (250, 450), cv2.FONT_HERSHEY_COMPLEX, 1, (0,255,0), 2)\n",
    "                threading.Thread(target=awsAutomate).start()\n",
    "            cv2.imshow('Face Recognition', image )\n",
    "            # os.system(\"chrome https://www.google.com/search?q=vimal+daga\")\n",
    "            #os.system(\"wmplayer   c:\\lw.mp3\")\n",
    "            print(\"Successfull\")\n",
    "            break\n",
    "         \n",
    "        else:\n",
    "            \n",
    "            cv2.putText(image, \"I dont know, how r u\", (250, 450), cv2.FONT_HERSHEY_COMPLEX, 1, (0,0,255), 2)\n",
    "            cv2.imshow('Face Recognition', image )\n",
    "\n",
    "    except:\n",
    "        cv2.putText(image, \"No Face Found\", (220, 120) , cv2.FONT_HERSHEY_COMPLEX, 1, (0,0,255), 2)\n",
    "        cv2.putText(image, \"looking for face\", (250, 450), cv2.FONT_HERSHEY_COMPLEX, 1, (0,0,255), 2)\n",
    "        cv2.imshow('Face Recognition', image )\n",
    "        pass\n",
    "    i+=1\n",
    "    if cv2.waitKey(1) == 13: #13 is the Enter Key\n",
    "        break\n",
    "        \n",
    "cap.release()\n",
    "cv2.destroyAllWindows()     "
   ]
  },
  {
   "cell_type": "code",
   "execution_count": null,
   "metadata": {},
   "outputs": [],
   "source": []
  },
  {
   "cell_type": "code",
   "execution_count": null,
   "metadata": {},
   "outputs": [],
   "source": [
    "# It will take some to send whatsapp msg till We will try with another face to save our time"
   ]
  },
  {
   "cell_type": "code",
   "execution_count": null,
   "metadata": {},
   "outputs": [],
   "source": [
    "a"
   ]
  },
  {
   "cell_type": "code",
   "execution_count": null,
   "metadata": {},
   "outputs": [],
   "source": []
  }
 ],
 "metadata": {
  "kernelspec": {
   "display_name": "Python 3",
   "language": "python",
   "name": "python3"
  },
  "language_info": {
   "codemirror_mode": {
    "name": "ipython",
    "version": 3
   },
   "file_extension": ".py",
   "mimetype": "text/x-python",
   "name": "python",
   "nbconvert_exporter": "python",
   "pygments_lexer": "ipython3",
   "version": "3.7.0"
  }
 },
 "nbformat": 4,
 "nbformat_minor": 4
}
